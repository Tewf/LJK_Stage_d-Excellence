{
 "cells": [
  {
   "cell_type": "code",
   "execution_count": 73,
   "metadata": {},
   "outputs": [],
   "source": [
    "using Combinatorics\n",
    "using LinearAlgebra"
   ]
  },
  {
   "cell_type": "code",
   "execution_count": 3,
   "metadata": {},
   "outputs": [
    {
     "name": "stdout",
     "output_type": "stream",
     "text": [
      "Solution: [0.6153846153846155, 0.9230769230769231, -0.23076923076923084]\n"
     ]
    }
   ],
   "source": [
    "function gaussian_elimination(A, U)\n",
    "    m, n = size(A)\n",
    "    # Create the augmented matrix by concatenating A and U\n",
    "    augmented_matrix = hcat(A, U)\n",
    "\n",
    "    for j in 1:n\n",
    "        # Find the pivot row\n",
    "        pivot_row = nothing\n",
    "        for k in j:m\n",
    "            if augmented_matrix[k, j]!= 0\n",
    "                pivot_row = k\n",
    "                break\n",
    "            end\n",
    "        end\n",
    "\n",
    "        if pivot_row === nothing\n",
    "            # No pivot in this column, skip to the next column\n",
    "            continue\n",
    "        end\n",
    "\n",
    "        # Swap current row with pivot row if needed\n",
    "        if pivot_row!= j\n",
    "            augmented_matrix[[j, pivot_row], :] = augmented_matrix[[pivot_row, j], :]\n",
    "        end\n",
    "\n",
    "        # Normalize the pivot row\n",
    "        augmented_matrix[j, :]./= augmented_matrix[j, j]\n",
    "\n",
    "        # Eliminate the current column in all other rows\n",
    "        for i in 1:m\n",
    "            if i!= j\n",
    "                augmented_matrix[i, :] -= augmented_matrix[i, j] * augmented_matrix[j, :]\n",
    "            end\n",
    "        end\n",
    "    end\n",
    "\n",
    "    # Check for inconsistency\n",
    "    for i in (n+1):m\n",
    "        if augmented_matrix[i, end]!= 0\n",
    "            return nothing  # No solution\n",
    "        end\n",
    "    end\n",
    "\n",
    "    return augmented_matrix[1:n, end]\n",
    "end\n",
    "\n",
    "A = [2.0 1.0 5.0; 1.0 3.0 6.0; 0.0 4.0 3.0]\n",
    "U = [1.0; 2.0; 3.0]\n",
    "result = gaussian_elimination(A, U)\n",
    "println(\"Solution: \", result)"
   ]
  },
  {
   "cell_type": "code",
   "execution_count": 61,
   "metadata": {},
   "outputs": [
    {
     "data": {
      "text/plain": [
       "nnz (generic function with 1 method)"
      ]
     },
     "metadata": {},
     "output_type": "display_data"
    }
   ],
   "source": [
    "function Cnk(x, y)\n",
    "    return collect(combinations(y, x))\n",
    "end\n",
    "\n",
    "function matrix_u(x, s)\n",
    "    return x[:, s]\n",
    "end\n",
    "\n",
    "function inverse(x)\n",
    "    return inv(x)\n",
    "end\n",
    "\n",
    "function supp(x)\n",
    "    return findall(x -> x != 0, x)\n",
    "end\n",
    "\n",
    "function nnz(matrix)\n",
    "    m, n = size(matrix)\n",
    "    zero_count = 0\n",
    "    for row in eachrow(matrix)\n",
    "        for element in row\n",
    "            if element == 0 || abs(element) <= 1e-16\n",
    "                zero_count += 1\n",
    "            end\n",
    "        end\n",
    "    end\n",
    "    return m * n - zero_count\n",
    "end\n"
   ]
  },
  {
   "cell_type": "code",
   "execution_count": 36,
   "metadata": {},
   "outputs": [
    {
     "data": {
      "text/plain": [
       "omega_validator4 (generic function with 1 method)"
      ]
     },
     "metadata": {},
     "output_type": "display_data"
    }
   ],
   "source": [
    "function omega_validator3(u)\n",
    "    a = [i for i in 1:size(u, 1) if !(i in omega)]\n",
    "    for i in a\n",
    "        u_without_ith_row = u[setdiff(1:size(u, 1), [i]), :]\n",
    "        if rank(u_without_ith_row) == size(u, 1) - 1\n",
    "            result = u[i, :]' * inv(u_without_ith_row)\n",
    "            return vcat(result[1:i-1], -1.0, result[i:end])\n",
    "        end\n",
    "    end\n",
    "    return nothing\n",
    "end\n",
    "\n",
    "\n",
    "function omega_validator4(u::Matrix{Float64})\n",
    "    a = [i for i in 1:size(u, 1) if !(i in omega)]\n",
    "\n",
    "    for i in a\n",
    "        u_without_ith_row = u[setdiff(1:end, i), :]\n",
    "        if rank(u_without_ith_row) == size(u, 1) - 1\n",
    "            result = gaussian_elimination(u_without_ith_row', u[i, :])\n",
    "            if result !== nothing\n",
    "                return vcat(result[1:i-1], -1.0, result[i:end])\n",
    "            end\n",
    "        end\n",
    "    end\n",
    "    return nothing\n",
    "end\n"
   ]
  },
  {
   "cell_type": "code",
   "execution_count": 64,
   "metadata": {},
   "outputs": [
    {
     "data": {
      "text/plain": [
       "algorithm5 (generic function with 2 methods)"
      ]
     },
     "metadata": {},
     "output_type": "display_data"
    }
   ],
   "source": [
    "function algorithm3(u)\n",
    "    sparsity, sparsest, i = 0, nothing, nothing\n",
    "\n",
    "    for c in preprocessed\n",
    "        Uc = matrix_u(u, collect(c))\n",
    "        t = omega_validator3(Uc)\n",
    "\n",
    "        if t !== nothing\n",
    "            v = t' * u\n",
    "            E = [i for i in v if i == 0]\n",
    "\n",
    "            if length(E) > sparsity\n",
    "                sparsity, sparsest = length(E), v\n",
    "                i = filter(i -> !(i in omega), supp(t))[1]\n",
    "            end\n",
    "        end\n",
    "    end\n",
    "\n",
    "    return sparsest, i\n",
    "end\n",
    "\n",
    "function algorithm4(u)\n",
    "    n, m = size(u)\n",
    "    a = [i for i in m-1:-1:n-1]\n",
    "    for z in a\n",
    "        for c in Cnk(z, [i for i in 1:m])\n",
    "            Uc = matrix_u(u, collect(c))\n",
    "            if omega_validator4(Uc) !== nothing\n",
    "                t = omega_validator4(Uc)\n",
    "                v = t' * u\n",
    "                i = filter(i -> !(i in omega), supp(t))[1]\n",
    "                return v, i\n",
    "            end\n",
    "        end\n",
    "    end\n",
    "    return nothing,nothing\n",
    "end\n",
    "\n",
    "using LinearAlgebra\n",
    "\n",
    "function algorithm5(u)\n",
    "    m, n = size(u)\n",
    "    sparsity, basis = nnz(u), Matrix{Float64}(I, n, n)\n",
    "    for c in Cnk(m, collect(1:n))\n",
    "        Uc = matrix_u(u, c)\n",
    "        if rank(Uc) == m\n",
    "            sparsifier = inv(Uc)\n",
    "            print(sparsifier)\n",
    "            if nnz(sparsifier * u) < sparsity\n",
    "                sparsity, basis = nnz(sparsifier * u), sparsifier\n",
    "            end\n",
    "        end\n",
    "    end\n",
    "    return basis\n",
    "end\n",
    "\n"
   ]
  },
  {
   "cell_type": "code",
   "execution_count": 48,
   "metadata": {},
   "outputs": [
    {
     "data": {
      "text/plain": [
       "algorithm2_4 (generic function with 1 method)"
      ]
     },
     "metadata": {},
     "output_type": "display_data"
    }
   ],
   "source": [
    "function algorithm2_3(u)\n",
    "    global omega, preprocessed\n",
    "\n",
    "    omega = []\n",
    "    preprocessed = [j for j in Cnk(size(u, 1) - 1, [i for i in 1:size(u, 2)]) if rank(matrix_u(u, collect(j))) == size(u, 1) - 1]\n",
    "\n",
    "    for j in 1:length(u)\n",
    "        v, i = algorithm3(u)\n",
    "        if i !== nothing\n",
    "            u[i, :] = v\n",
    "            push!(omega, i)\n",
    "        end\n",
    "    end\n",
    "\n",
    "    return u\n",
    "end\n",
    "\n",
    "function algorithm2_4(u)\n",
    "    global omega\n",
    "\n",
    "    omega = []\n",
    "    for j in 1:length(u)\n",
    "        v, i = algorithm4(u)\n",
    "        if i !== nothing\n",
    "            u[i, :] = v\n",
    "            push!(omega, i)\n",
    "        end\n",
    "    end\n",
    "\n",
    "    return u\n",
    "end"
   ]
  },
  {
   "cell_type": "code",
   "execution_count": 69,
   "metadata": {},
   "outputs": [
    {
     "name": "stdout",
     "output_type": "stream",
     "text": [
      "[0.4444444444444444 -0.8888888888888888 -0.8888888888888888 -0.4444444444444444; 0.0 0.5555555555555556 0.0 1.1111111111111112; 0.8888888888888888 -0.6666666666666666 0.0 0.0; 0.4444444444444444 0.2222222222222222 0.8888888888888888 0.4444444444444444; 0.0 -1.1111111111111112 0.0 0.0; 0.4444444444444444 -0.33333333333333326 -0.8888888888888888 0.6666666666666667; -0.4444444444444444 -0.22222222222222232 0.8888888888888888 0.4444444444444444]\n"
     ]
    }
   ],
   "source": [
    "# Define matrices\n",
    "example0 = [4/9 -8/9 -8/9 -4/9; \n",
    "            0 5/9 0 10/9; \n",
    "            8/9 -2/3 0 0; \n",
    "            4/9 2/9 8/9 4/9; \n",
    "            0 -10/9 0 0; \n",
    "            4/9 -1/3 -8/9 2/3; \n",
    "            -4/9 -2/9 8/9 4/9]\n",
    "\n",
    "example1 = copy(example0) # Creating a copy of example0\n",
    "example2=copy(example0)\n",
    "b = [8/9 -2/3 0 0; \n",
    "     0 5/9 0 10/9; \n",
    "     0 -10/9 0 0; \n",
    "     4/9 -8/9 -8/9 -4/9]\n",
    "\n",
    "c = [0 0 0 1; \n",
    "     0 1 0 0; \n",
    "     1 0 0 0; \n",
    "     1 0 0 -1; \n",
    "     0 0 1 0; \n",
    "     0 1 0 1; \n",
    "     0 0 1 -1]\n",
    "\n",
    "# Perform matrix multiplication\n",
    "result = c * b\n",
    "\n",
    "println(result)\n"
   ]
  },
  {
   "cell_type": "code",
   "execution_count": 72,
   "metadata": {},
   "outputs": [
    {
     "name": "stdout",
     "output_type": "stream",
     "text": [
      "Exact Solutions\n",
      "[0.0 0.0 0.8888888888888888 0.8888888888888888 0.0 0.0 0.0; 0.0 0.0 0.0 0.0 -1.1111111111111112 0.0 -1.1111111111111112; 0.0 -2.2222222222222223 0.0 0.0 0.0 -2.2222222222222223 0.0; -0.4444444444444444 0.0 0.0 0.4444444444444444 0.0 -0.44444444444444453 0.4444444444444444]\n",
      "[0.0 0.0 0.0 1.2335811384723967e-17 -1.1111111111111112 -7.395570986446989e-32 -1.1111111111111112; 0.3333333333333331 0.0 0.3333333333333332 3.700743415417185e-17 4.444444444444445 0.3333333333333331 4.111111111111112; 0.0 -2.2222222222222223 0.0 0.0 0.0 -2.2222222222222223 0.0; 0.0 0.0 0.44444444444444453 0.44444444444444453 0.0 -1.1102230246251565e-16 -2.220446049250313e-16]\n",
      "heuristic Solutions\n",
      "[1.4988010832439614e-16 7.494005416219807e-17 -1.125 0.0; 7.494005416219807e-17 9.298117831235686e-17 -0.45 0.8999999999999999; 1.125 0.0 0.5625 0.0; -0.675 -0.9 0.3375 0.45][-0.6749999999999999 -0.8999999999999999 -0.7875000000000001 0.44999999999999996; 7.494005416219807e-17 9.298117831235686e-17 -0.45 0.8999999999999999; 1.125 0.0 0.5625 0.0; -0.675 -0.9 0.3375 0.45][1.1250000000000002 3.3306690738754696e-16 -0.5625000000000001 -1.1102230246251565e-16; 7.494005416219807e-17 9.298117831235686e-17 -0.45 0.8999999999999999; 1.125 0.0 0.5625 0.0; -0.675 -0.9 0.3375 0.45][0.45000000000000007 -0.8999999999999999 -0.22500000000000003 0.44999999999999996; 7.494005416219807e-17 9.298117831235686e-17 -0.45 0.8999999999999999; 1.125 0.0 0.5625 0.0; -0.675 -0.9 0.3375 0.45][0.0 0.0 -0.675 -0.8999999999999999; 1.125 0.0 0.5625 -0.0; -0.6749999999999999 -0.9 0.3375 0.44999999999999996; 0.0 0.0 -0.44999999999999996 0.8999999999999999][-0.6749999999999999 -0.8999999999999999 -0.3375 -0.44999999999999996; 1.125 0.0 0.5625 0.0; -3.3723024372989126e-17 -7.237266341775239e-17 -0.4499999999999999 0.8999999999999999; -0.6749999999999999 -0.8999999999999999 0.3375 0.44999999999999996][1.125 0.0 -0.11250000000000004 -0.8999999999999999; 1.125 0.0 0.5625 -0.0; -0.6749999999999999 -0.9 0.3375 0.44999999999999996; 0.0 0.0 -0.44999999999999996 0.8999999999999999][0.45 -0.9 0.22499999999999998 -0.44999999999999996; 1.125 0.0 0.5625 0.0; -3.3723024372989126e-17 -7.237266341775239e-17 -0.4499999999999999 0.8999999999999999; -0.6749999999999999 -0.8999999999999999 0.3375 0.44999999999999996][0.0 0.0 -0.4499999999999999 0.8999999999999999; 1.125 0.0 -0.5625 0.0; 0.0 0.0 1.125 0.0; -0.6749999999999999 -0.8999999999999999 0.33749999999999997 0.44999999999999996][0.0 0.0 -0.4499999999999999 0.8999999999999999; 0.45000000000000007 -0.8999999999999999 -0.22500000000000003 0.44999999999999996; 0.6749999999999999 0.8999999999999999 0.7875000000000001 -0.44999999999999996; -0.6749999999999999 -0.8999999999999999 0.33749999999999997 0.44999999999999996][-0.0 0.0 0.6749999999999998 0.8999999999999999; 1.125 0.0 0.5625 0.0; -0.6749999999999999 -0.8999999999999999 0.3374999999999999 0.44999999999999996; 0.0 0.0 -1.125 0.0][0.0 0.0 -0.4499999999999999 0.8999999999999999; 1.125 0.0 0.5625 0.0; -0.6749999999999999 -0.8999999999999999 -0.7875 0.44999999999999996; 0.0 0.0 1.125 0.0][0.6749999999999997 0.8999999999999996 0.33749999999999997 0.4500000000000001; 1.125 0.0 0.5625 0.0; -0.6749999999999999 -0.8999999999999999 -0.7875000000000001 0.44999999999999996; -0.6749999999999999 -0.8999999999999999 0.33749999999999997 0.44999999999999996][-1.1249999999999998 0.0 0.11249999999999999 0.8999999999999999; 1.125 0.0 0.5625 0.0; -0.6749999999999998 -0.8999999999999999 0.3374999999999999 0.44999999999999996; 1.125 0.0 -0.5625 0.0][0.0 0.0 -0.4499999999999999 0.8999999999999999; 1.125 0.0 0.5625 0.0; 0.4499999999999999 -0.8999999999999999 -0.22499999999999995 0.44999999999999996; -1.125 0.0 0.5625 0.0][-0.44999999999999996 0.8999999999999997 -0.22499999999999992 0.45000000000000007; 1.125 0.0 0.5625 0.0; 0.45000000000000007 -0.8999999999999999 -0.22500000000000003 0.44999999999999996; -0.6749999999999999 -0.8999999999999999 0.33749999999999997 0.44999999999999996][1.125 0.0 -0.11250000000000004 -0.8999999999999999; 0.0 0.0 0.675 0.8999999999999999; -0.6749999999999999 -0.8999999999999999 0.3375 0.44999999999999996; 0.0 0.0 -0.44999999999999996 0.8999999999999999][0.45000000000000007 -0.8999999999999999 0.22499999999999998 -0.44999999999999996; 0.6749999999999999 0.8999999999999999 0.3375 0.44999999999999996; 0.0 0.0 -0.44999999999999996 0.8999999999999999; -0.6749999999999999 -0.8999999999999999 0.3375 0.44999999999999996][1.125 0.0 0.5625 -0.0; -0.6749999999999999 -0.8999999999999999 -0.33749999999999997 -0.44999999999999996; 0.0 0.0 -0.45000000000000007 0.8999999999999999; 0.0 0.0 0.6749999999999999 0.8999999999999999][1.125 0.0 0.5625 1.1102230246251565e-16; 0.4499999999999999 -0.8999999999999999 0.2249999999999999 -0.4499999999999998; 0.0 0.0 -0.44999999999999996 0.8999999999999999; -1.125 0.0 0.1125000000000001 0.8999999999999998][-0.6749999999999999 -0.8999999999999999 -0.3375 -0.44999999999999996; 1.125 0.0 0.5625 0.0; -3.3723024372989126e-17 -7.237266341775239e-17 -0.4499999999999999 0.8999999999999999; -0.6749999999999999 -0.8999999999999999 0.3375 0.44999999999999996]\n"
     ]
    }
   ],
   "source": [
    "example0_transposed = transpose(example0)\n",
    "example1_transposed = transpose(example1)\n",
    "example2_transposed = transpose(example2)\n",
    "println(\"Exact Solutions\")\n",
    "println(algorithm2_3(example0_transposed))\n",
    "println(algorithm2_4(example1_transposed))\n",
    "println(\"heuristic Solutions\")\n",
    "println(algorithm5(example2_transposed))"
   ]
  }
 ],
 "metadata": {
  "kernelspec": {
   "display_name": "Julia 1.10.3",
   "language": "julia",
   "name": "julia-1.10"
  },
  "language_info": {
   "file_extension": ".jl",
   "mimetype": "application/julia",
   "name": "julia",
   "version": "1.10.3"
  }
 },
 "nbformat": 4,
 "nbformat_minor": 2
}
